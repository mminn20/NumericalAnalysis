{
 "cells": [
  {
   "cell_type": "markdown",
   "metadata": {},
   "source": [
    "## Numerical Analysis \\<Final Project\\>\n",
    "\n",
    "권도혁, 공민경"
   ]
  },
  {
   "cell_type": "code",
   "execution_count": 2,
   "metadata": {},
   "outputs": [],
   "source": [
    "import torch\n",
    "import pandas as pd\n",
    "\n",
    "from tqdm import tqdm\n",
    "from torch_geometric.nn import DimeNet\n",
    "from torch_geometric.datasets import QM9\n",
    "from torch_geometric.loader import DataLoader"
   ]
  },
  {
   "cell_type": "markdown",
   "metadata": {},
   "source": [
    "#### 1. Call Data"
   ]
  },
  {
   "cell_type": "code",
   "execution_count": 3,
   "metadata": {},
   "outputs": [
    {
     "name": "stderr",
     "output_type": "stream",
     "text": [
      "100%|██████████| 10984/10984 [00:06<00:00, 1584.65it/s]\n",
      "100%|██████████| 1217/1217 [00:00<00:00, 1880.10it/s]\n"
     ]
    }
   ],
   "source": [
    "train = pd.read_csv(\"../input/numerical2022fall/train.csv\", index_col=0)\n",
    "test = pd.read_csv(\"../input/numerical2022fall/test.csv\", index_col=0)\n",
    "train_num_nodes_list = list()\n",
    "test_num_nodes_list = list()\n",
    "train_list = list()\n",
    "test_list = list()\n",
    "\n",
    "for idx in tqdm(train.index):\n",
    "    d = torch.load(f\"./data/train/{idx}.pt\")\n",
    "    train_list.append(d)\n",
    "    train_num_nodes_list.append(d.num_nodes)\n",
    "\n",
    "for idx in tqdm(test.index):\n",
    "    d = torch.load(f\"./data/test/{idx}.pt\")\n",
    "    test_list.append(d)\n",
    "    test_num_nodes_list.append(d.num_nodes)"
   ]
  },
  {
   "cell_type": "markdown",
   "metadata": {},
   "source": [
    "#### 2. Model Generation"
   ]
  },
  {
   "cell_type": "code",
   "execution_count": 6,
   "metadata": {},
   "outputs": [],
   "source": [
    "Model = DimeNet(hidden_channels=128, out_channels=1, num_blocks=6,num_bilinear=8, num_spherical=7, num_radial=6,\n",
    "                   cutoff=5.0, envelope_exponent=5, num_before_skip=1, num_after_skip=2, num_output_layers=3)\n",
    "\n",
    "path = '../data/QM9/'\n",
    "dataset = QM9(path)\n",
    "Model, datasets = Model.from_qm9_pretrained(path, dataset, 0)\n",
    "loader = DataLoader(train_list, batch_size=1)\n",
    "\n",
    "loss_fn = torch.nn.L1Loss()\n",
    "optimizer = torch.optim.Adam(Model.parameters(), lr=1e-5, amsgrad=True)\n",
    "scheduler = torch.optim.lr_scheduler.ExponentialLR(optimizer, gamma=0.96)\n",
    "swa_scheduler = torch.optim.swa_utils.SWALR(optimizer, swa_lr=0.001)"
   ]
  },
  {
   "cell_type": "markdown",
   "metadata": {},
   "source": [
    "#### 3. Train"
   ]
  },
  {
   "cell_type": "code",
   "execution_count": 8,
   "metadata": {},
   "outputs": [
    {
     "name": "stdout",
     "output_type": "stream",
     "text": [
      "0, "
     ]
    }
   ],
   "source": [
    "step = 0\n",
    "\n",
    "for epoch in range(10):\n",
    "  for data in loader:\n",
    "    tmp_z = data.x.reshape(-1)\n",
    "    tmp_z = [int(x)+1 for x in tmp_z]\n",
    "    tmp_z = torch.tensor(tmp_z)\n",
    "    \n",
    "    optimizer.zero_grad()\n",
    "    out = Model(tmp_z, data.pos)\n",
    "    loss = loss_fn(out.view(-1), data.y)\n",
    "    loss.backward()\n",
    "    optimizer.step()\n",
    "\n",
    "    step += 1\n",
    "    if step % 1000 == 0:\n",
    "      scheduler.step()\n",
    "    swa_scheduler.step()"
   ]
  },
  {
   "cell_type": "markdown",
   "metadata": {},
   "source": [
    "#### 4. Test & Submission file"
   ]
  },
  {
   "cell_type": "code",
   "execution_count": 9,
   "metadata": {},
   "outputs": [],
   "source": [
    "index = []\n",
    "result = []\n",
    "\n",
    "for i, data in enumerate(test_list):\n",
    "  tmp_z = data.x.reshape(-1)\n",
    "  tmp_z = [int(x)+1 for x in tmp_z]\n",
    "  tmp_z = torch.tensor(tmp_z)\n",
    "  out = Model(tmp_z, data.pos)\n",
    "\n",
    "  index.append(\"test_\"+str(i))\n",
    "  result.append(out.item())\n",
    "\n",
    "code = input()\n",
    "\n",
    "df = pd.DataFrame(index, columns = ['ID'])\n",
    "df['predicted'] = result\n",
    "\n",
    "df.to_csv(\"../Submissions/submission_\"+code+\".csv\", index = False)"
   ]
  },
  {
   "cell_type": "code",
   "execution_count": null,
   "metadata": {},
   "outputs": [],
   "source": []
  }
 ],
 "metadata": {
  "kernelspec": {
   "display_name": "Python 3.8.8 ('base')",
   "language": "python",
   "name": "python3"
  },
  "language_info": {
   "codemirror_mode": {
    "name": "ipython",
    "version": 3
   },
   "file_extension": ".py",
   "mimetype": "text/x-python",
   "name": "python",
   "nbconvert_exporter": "python",
   "pygments_lexer": "ipython3",
   "version": "3.8.8"
  },
  "orig_nbformat": 4,
  "vscode": {
   "interpreter": {
    "hash": "cc4d55d52d1114a871817dc9d2b4e4d90b6d108a695844ce0d6cbea98b4fea22"
   }
  }
 },
 "nbformat": 4,
 "nbformat_minor": 2
}
